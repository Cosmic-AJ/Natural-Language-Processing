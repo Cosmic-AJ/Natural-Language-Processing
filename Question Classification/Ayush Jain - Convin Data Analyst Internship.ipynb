{
 "cells": [
  {
   "cell_type": "markdown",
   "id": "deec2e1c",
   "metadata": {},
   "source": [
    "# Name: Ayush Jain\n",
    "# Email: ayushjain051001@gmail.com\n",
    "# Phone No: 8560036606"
   ]
  },
  {
   "cell_type": "markdown",
   "id": "c70e7470",
   "metadata": {},
   "source": [
    " "
   ]
  },
  {
   "cell_type": "markdown",
   "id": "f36a56fb",
   "metadata": {},
   "source": [
    "# Question Classification\n",
    "Write a python script to take file input which will contain a sentence per line. For each\n",
    "sentence you have to identify if it’s a question or not by detecting question phrases like what,\n",
    "how etc. and tag it yes or no. \n",
    "\n",
    "Write tagged data into another output file\n",
    "Below is a link to a file containing sample sentences. You can test your script on this:-\n",
    "https://drive.google.com/file/d/1LAB9zMwDRZgTEVubTcp_Ctpa2ErKZ3Pj/view?usp=sharing\n",
    "\n",
    "Format of input file:-\n",
    "Hello how are you doing\n",
    "\n",
    "My name is Joe\n",
    "\n",
    "I am going home\n",
    "\n",
    "Format of output file:-\n",
    "Hello how are you doing   Yes\n",
    "\n",
    "My name is Joe            No\n",
    "\n",
    "I am going home           No\n"
   ]
  },
  {
   "cell_type": "markdown",
   "id": "64300e80",
   "metadata": {},
   "source": [
    " - Download nps_chat from nltk which includes the chat details available in nltk library.\n",
    "\n",
    " - Download punkt from nltk which helps in tokenization of text into sentences."
   ]
  },
  {
   "cell_type": "markdown",
   "id": "0d5781f4",
   "metadata": {},
   "source": [
    "## Importing the Libraries required"
   ]
  },
  {
   "cell_type": "code",
   "execution_count": 1,
   "id": "700fa471",
   "metadata": {},
   "outputs": [],
   "source": [
    "import pandas as pd\n",
    "import nltk\n",
    "import matplotlib.pyplot as plt"
   ]
  },
  {
   "cell_type": "code",
   "execution_count": null,
   "id": "d479f6cc",
   "metadata": {},
   "outputs": [],
   "source": [
    "# run only if not downloaded\n",
    "nltk.download('nps_chat')\n",
    "nltk.download('punkt')"
   ]
  },
  {
   "cell_type": "markdown",
   "id": "92047146",
   "metadata": {},
   "source": [
    "### Reading all the data from the file."
   ]
  },
  {
   "cell_type": "code",
   "execution_count": 2,
   "id": "90fc659e",
   "metadata": {},
   "outputs": [],
   "source": [
    "filepath = 'data.txt'\n",
    "text = []\n",
    "with open(filepath) as fp:\n",
    "    line = fp.readline()\n",
    "    while line:\n",
    "        text.append(line.replace('\\n',''))\n",
    "        line = fp.readline()"
   ]
  },
  {
   "cell_type": "code",
   "execution_count": 3,
   "id": "6826a59e",
   "metadata": {},
   "outputs": [
    {
     "data": {
      "text/plain": [
       "['hindi movies for adults',\n",
       " 'are panda dogs real',\n",
       " 'asuedraw winning numbers',\n",
       " 'sentry replacement keys',\n",
       " 'rebuilding nicad battery packs',\n",
       " 'can you overdose on melatonin',\n",
       " 'list of browsers',\n",
       " 'que son numeros naturales',\n",
       " 'mini motos honda',\n",
       " 'mulatto']"
      ]
     },
     "execution_count": 3,
     "metadata": {},
     "output_type": "execute_result"
    }
   ],
   "source": [
    "text[:10]"
   ]
  },
  {
   "cell_type": "markdown",
   "id": "f1b4db67",
   "metadata": {},
   "source": [
    "### Extarcting data from the posts."
   ]
  },
  {
   "cell_type": "code",
   "execution_count": 4,
   "id": "9b27b43b",
   "metadata": {},
   "outputs": [],
   "source": [
    "posts = nltk.corpus.nps_chat.xml_posts()"
   ]
  },
  {
   "cell_type": "code",
   "execution_count": 5,
   "id": "89b8fbae",
   "metadata": {},
   "outputs": [],
   "source": [
    "# we create a function which extracts features from the posts\n",
    "def dialogue_features(post):\n",
    "    # a dictionary which will take all the details of the post\n",
    "    features = {}\n",
    "    # we tokenize the content of the post\n",
    "    for word in nltk.word_tokenize(post):\n",
    "        features['contains({})'.format(word.lower())] = True\n",
    "    # return the dictionary with the data\n",
    "    return features"
   ]
  },
  {
   "cell_type": "code",
   "execution_count": 6,
   "id": "a17781e0",
   "metadata": {},
   "outputs": [],
   "source": [
    "# we create a list of tuple with the text and the class of the text\n",
    "featureSets = [(dialogue_features(post.text), post.get('class')) for post in posts]"
   ]
  },
  {
   "cell_type": "code",
   "execution_count": 43,
   "id": "a1c57a29",
   "metadata": {},
   "outputs": [
    {
     "data": {
      "text/plain": [
       "10567"
      ]
     },
     "execution_count": 43,
     "metadata": {},
     "output_type": "execute_result"
    }
   ],
   "source": [
    "# check number of posts\n",
    "len(featureSets)"
   ]
  },
  {
   "cell_type": "code",
   "execution_count": 7,
   "id": "3bc42af8",
   "metadata": {},
   "outputs": [],
   "source": [
    "# we make take 20% of the data for the testing purpose and 80% for training\n",
    "size = int(len(featureSets) * 0.2)\n",
    "train_set, test_set = featureSets[size:], featureSets[:size]"
   ]
  },
  {
   "cell_type": "markdown",
   "id": "c6c454d9",
   "metadata": {},
   "source": [
    "### Testing Maxent and Naive Bayes Algorithm"
   ]
  },
  {
   "cell_type": "markdown",
   "id": "40a75d74",
   "metadata": {},
   "source": [
    "#### Maxent Classifier"
   ]
  },
  {
   "cell_type": "code",
   "execution_count": 8,
   "id": "ba7fff38",
   "metadata": {},
   "outputs": [
    {
     "name": "stdout",
     "output_type": "stream",
     "text": [
      "  ==> Training (15 iterations)\n",
      "\n",
      "      Iteration    Log Likelihood    Accuracy\n",
      "      ---------------------------------------\n",
      "             1          -2.70805        0.051\n",
      "             2          -1.24488        0.857\n",
      "             3          -0.91412        0.891\n",
      "             4          -0.74260        0.905\n",
      "             5          -0.62950        0.917\n",
      "             6          -0.54642        0.924\n",
      "             7          -0.48235        0.927\n",
      "             8          -0.43205        0.933\n",
      "             9          -0.39230        0.937\n",
      "            10          -0.36064        0.941\n",
      "            11          -0.33505        0.945\n",
      "            12          -0.31394        0.949\n",
      "            13          -0.29617        0.952\n",
      "            14          -0.28095        0.954\n",
      "         Final          -0.26773        0.955\n"
     ]
    }
   ],
   "source": [
    "# we create a Maxent Classifier which trains the model for 15 iterations\n",
    "classifier1 = nltk.MaxentClassifier.train(train_set, max_iter=15)"
   ]
  },
  {
   "cell_type": "code",
   "execution_count": 9,
   "id": "52a12dd4",
   "metadata": {},
   "outputs": [
    {
     "name": "stdout",
     "output_type": "stream",
     "text": [
      "0.7179365830572646\n"
     ]
    }
   ],
   "source": [
    "# we print the accuracy attainded by the model on test data\n",
    "print(nltk.classify.accuracy(classifier1, test_set))"
   ]
  },
  {
   "cell_type": "markdown",
   "id": "c5180c4f",
   "metadata": {},
   "source": [
    "#### Naive Bayes Classifier"
   ]
  },
  {
   "cell_type": "code",
   "execution_count": 10,
   "id": "df66f3e9",
   "metadata": {},
   "outputs": [],
   "source": [
    "# we create a Naive Bayes classifer from the training set, where we pass text and label\n",
    "classifier2 = nltk.NaiveBayesClassifier.train(train_set)"
   ]
  },
  {
   "cell_type": "code",
   "execution_count": 11,
   "id": "7f992057",
   "metadata": {
    "scrolled": true
   },
   "outputs": [
    {
     "name": "stdout",
     "output_type": "stream",
     "text": [
      "0.6630383341221012\n"
     ]
    }
   ],
   "source": [
    "# we print the accuracy achieved by Naive bayes on the test data\n",
    "print(nltk.classify.accuracy(classifier2, test_set))"
   ]
  },
  {
   "cell_type": "markdown",
   "id": "b551a8b0",
   "metadata": {},
   "source": [
    "#### Decision Tree Classifier"
   ]
  },
  {
   "cell_type": "code",
   "execution_count": 12,
   "id": "d94b3d1d",
   "metadata": {},
   "outputs": [],
   "source": [
    "# we create a Decision Tree classifer from the training set, where we pass text and label\n",
    "classifier3 = nltk.classify.decisiontree.DecisionTreeClassifier.train(train_set)"
   ]
  },
  {
   "cell_type": "code",
   "execution_count": 13,
   "id": "94808c46",
   "metadata": {},
   "outputs": [
    {
     "name": "stdout",
     "output_type": "stream",
     "text": [
      "0.7666824420255561\n"
     ]
    }
   ],
   "source": [
    "# we print the accuracy achieved by Decision Tree on the test data\n",
    "print(nltk.classify.accuracy(classifier3, test_set))"
   ]
  },
  {
   "cell_type": "markdown",
   "id": "6a76b9d5",
   "metadata": {},
   "source": [
    "### Providing selected question types.\n",
    "\n",
    "The function will return true if NLTK model classifies the given text into whquestion or ynquestion category, else will return false."
   ]
  },
  {
   "cell_type": "code",
   "execution_count": 14,
   "id": "c47812a0",
   "metadata": {},
   "outputs": [],
   "source": [
    "# we specify the types of text which is required for our problem\n",
    "questionTypes = [\"whQuestion\",\"ynQuestion\"]\n",
    "# we create a function of text classification using nltk model\n",
    "def isQuestionNltk(ques):\n",
    "    # we extract the text part and classify the data using the model\n",
    "    questionType = classifier3.classify(dialogue_features(ques))\n",
    "    # if the label or category returned by model is a question then we return true, else false\n",
    "    return questionType in questionTypes"
   ]
  },
  {
   "cell_type": "markdown",
   "id": "3c4d9dbd",
   "metadata": {},
   "source": [
    "### Adding an extra layer of questions for attaining better accuracy.\n",
    "### It will take care of the cases which are missed by the NLTK model."
   ]
  },
  {
   "cell_type": "code",
   "execution_count": 15,
   "id": "fccb3c79",
   "metadata": {},
   "outputs": [],
   "source": [
    "questionPattern = [\"do i\", \"do you\", \"what\", \"who\", \"is it\", \"why\",\"would you\", \"how\",\"is there\",\n",
    "                    \"are there\", \"is it so\", \"is this true\" ,\"to know\", \"is that true\", \"are we\", \"am i\", \n",
    "                   \"question is\", \"tell me more\", \"can i\", \"can we\", \"tell me\", \"can you explain\",\n",
    "                   \"question\",\"answer\", \"questions\", \"answers\", \"ask\"]"
   ]
  },
  {
   "cell_type": "code",
   "execution_count": 16,
   "id": "d7105e45",
   "metadata": {},
   "outputs": [],
   "source": [
    "# hepling verbs which works in the supporting role.\n",
    "helpingVerbs = [\"is\",\"am\",\"can\", \"are\", \"do\", \"does\"]"
   ]
  },
  {
   "cell_type": "markdown",
   "id": "0dff7837",
   "metadata": {},
   "source": [
    "### Creating a final function, which will classify that the text is a question or not"
   ]
  },
  {
   "cell_type": "code",
   "execution_count": 17,
   "id": "b5a61fe9",
   "metadata": {},
   "outputs": [],
   "source": [
    "# creating a function which will take the text and tell that it is a question or not\n",
    "def isQuestion(data):\n",
    "    # we convert the data to lowercase and remove leading and trailing spaces\n",
    "    data = data.lower().strip()\n",
    "    # we classify the data using the NLTK model, if it is classified as a question by nltk we\n",
    "    # return True else we go for in depth check of the text\n",
    "    if not isQuestionNltk(data):\n",
    "        isQues = False\n",
    "        # check if any of pattern exist in sentence\n",
    "        for pattern in questionPattern:\n",
    "            # check that each pattern is their in the question or not.\n",
    "            isQues = pattern in data\n",
    "            # if pattern is found in question, change the value to true and break\n",
    "            if isQues:\n",
    "                break\n",
    "\n",
    "        # We divide multiple sentences using . as a delimeter\n",
    "        sentences = data.split(\".\")\n",
    "        # we iteratre through all the sentences\n",
    "        for sentence in sentences:\n",
    "            # we check that the sentence is not empty\n",
    "            if len(sentence.strip()):\n",
    "                # we tokenize the the sentence using the nltk and extarct the first work\n",
    "                firstWord = nltk.word_tokenize(sentence)[0]\n",
    "                # if question ends with ? or start with any helping verb, then it is question\n",
    "                if sentence.endswith(\"?\") or firstWord in helpingVerbs:\n",
    "                    isQues = True\n",
    "                    # we then break from the loop\n",
    "                    break\n",
    "        # we return the value true or false which is obtained by in depth search\n",
    "        return isQues    \n",
    "    else:\n",
    "        # we return true as it has been classified as a question by nltk model only\n",
    "        return True"
   ]
  },
  {
   "cell_type": "markdown",
   "id": "20599baf",
   "metadata": {},
   "source": [
    "### Testing with some values"
   ]
  },
  {
   "cell_type": "code",
   "execution_count": 18,
   "id": "dd66b793",
   "metadata": {},
   "outputs": [
    {
     "data": {
      "text/plain": [
       "True"
      ]
     },
     "execution_count": 18,
     "metadata": {},
     "output_type": "execute_result"
    }
   ],
   "source": [
    "isQuestion('am i male')"
   ]
  },
  {
   "cell_type": "code",
   "execution_count": 19,
   "id": "7b6fab8a",
   "metadata": {},
   "outputs": [
    {
     "data": {
      "text/plain": [
       "True"
      ]
     },
     "execution_count": 19,
     "metadata": {},
     "output_type": "execute_result"
    }
   ],
   "source": [
    "isQuestion('How are You')"
   ]
  },
  {
   "cell_type": "code",
   "execution_count": 20,
   "id": "d55cde2b",
   "metadata": {},
   "outputs": [
    {
     "data": {
      "text/plain": [
       "False"
      ]
     },
     "execution_count": 20,
     "metadata": {},
     "output_type": "execute_result"
    }
   ],
   "source": [
    "isQuestion('I am Fine')"
   ]
  },
  {
   "cell_type": "markdown",
   "id": "6f76f1e3",
   "metadata": {},
   "source": [
    "### Classifying all the text "
   ]
  },
  {
   "cell_type": "code",
   "execution_count": 21,
   "id": "c73f5297",
   "metadata": {},
   "outputs": [],
   "source": [
    "# we create a dataframe which will have all the text and label\n",
    "data = pd.DataFrame({'Sentence':text})"
   ]
  },
  {
   "cell_type": "code",
   "execution_count": 32,
   "id": "841ece71",
   "metadata": {},
   "outputs": [],
   "source": [
    "# we create an anonymous function using isQuestion function which will return Yes or no according to the text\n",
    "data['IsQuestion'] = data['Sentence'].apply(lambda x: 'Yes' if isQuestion(x) else 'No')"
   ]
  },
  {
   "cell_type": "code",
   "execution_count": 33,
   "id": "79dd57c5",
   "metadata": {},
   "outputs": [
    {
     "data": {
      "text/html": [
       "<div>\n",
       "<style scoped>\n",
       "    .dataframe tbody tr th:only-of-type {\n",
       "        vertical-align: middle;\n",
       "    }\n",
       "\n",
       "    .dataframe tbody tr th {\n",
       "        vertical-align: top;\n",
       "    }\n",
       "\n",
       "    .dataframe thead th {\n",
       "        text-align: right;\n",
       "    }\n",
       "</style>\n",
       "<table border=\"1\" class=\"dataframe\">\n",
       "  <thead>\n",
       "    <tr style=\"text-align: right;\">\n",
       "      <th></th>\n",
       "      <th>Sentence</th>\n",
       "      <th>IsQuestion</th>\n",
       "    </tr>\n",
       "  </thead>\n",
       "  <tbody>\n",
       "    <tr>\n",
       "      <th>0</th>\n",
       "      <td>hindi movies for adults</td>\n",
       "      <td>No</td>\n",
       "    </tr>\n",
       "    <tr>\n",
       "      <th>1</th>\n",
       "      <td>are panda dogs real</td>\n",
       "      <td>Yes</td>\n",
       "    </tr>\n",
       "    <tr>\n",
       "      <th>2</th>\n",
       "      <td>asuedraw winning numbers</td>\n",
       "      <td>No</td>\n",
       "    </tr>\n",
       "    <tr>\n",
       "      <th>3</th>\n",
       "      <td>sentry replacement keys</td>\n",
       "      <td>No</td>\n",
       "    </tr>\n",
       "    <tr>\n",
       "      <th>4</th>\n",
       "      <td>rebuilding nicad battery packs</td>\n",
       "      <td>No</td>\n",
       "    </tr>\n",
       "  </tbody>\n",
       "</table>\n",
       "</div>"
      ],
      "text/plain": [
       "                         Sentence IsQuestion\n",
       "0         hindi movies for adults         No\n",
       "1             are panda dogs real        Yes\n",
       "2        asuedraw winning numbers         No\n",
       "3         sentry replacement keys         No\n",
       "4  rebuilding nicad battery packs         No"
      ]
     },
     "execution_count": 33,
     "metadata": {},
     "output_type": "execute_result"
    }
   ],
   "source": [
    "data.head()"
   ]
  },
  {
   "cell_type": "code",
   "execution_count": 34,
   "id": "6f44daec",
   "metadata": {},
   "outputs": [
    {
     "data": {
      "text/plain": [
       "(9993, 2)"
      ]
     },
     "execution_count": 34,
     "metadata": {},
     "output_type": "execute_result"
    }
   ],
   "source": [
    "data.shape"
   ]
  },
  {
   "cell_type": "code",
   "execution_count": 35,
   "id": "bd7feddd",
   "metadata": {},
   "outputs": [
    {
     "data": {
      "text/plain": [
       "No     8962\n",
       "Yes    1031\n",
       "Name: IsQuestion, dtype: int64"
      ]
     },
     "execution_count": 35,
     "metadata": {},
     "output_type": "execute_result"
    }
   ],
   "source": [
    "# we find out the distribution of the labels\n",
    "data.IsQuestion.value_counts()"
   ]
  },
  {
   "cell_type": "code",
   "execution_count": 38,
   "id": "d0791546",
   "metadata": {},
   "outputs": [
    {
     "data": {
      "text/plain": [
       "<AxesSubplot:ylabel='IsQuestion'>"
      ]
     },
     "execution_count": 38,
     "metadata": {},
     "output_type": "execute_result"
    },
    {
     "data": {
      "image/png": "[encoded data removed]",
      "text/plain": [
       "<Figure size 432x432 with 1 Axes>"
      ]
     },
     "metadata": {},
     "output_type": "display_data"
    }
   ],
   "source": [
    "# we visualize the results\n",
    "plt.figure(figsize=(6,6))\n",
    "data.IsQuestion.value_counts().plot(kind='pie')"
   ]
  },
  {
   "cell_type": "code",
   "execution_count": 39,
   "id": "c1e7f541",
   "metadata": {},
   "outputs": [
    {
     "data": {
      "text/plain": [
       "<AxesSubplot:>"
      ]
     },
     "execution_count": 39,
     "metadata": {},
     "output_type": "execute_result"
    },
    {
     "data": {
      "image/png": "[encoded data removed]",
      "text/plain": [
       "<Figure size 432x432 with 1 Axes>"
      ]
     },
     "metadata": {
      "needs_background": "light"
     },
     "output_type": "display_data"
    }
   ],
   "source": [
    "# we visualize the results\n",
    "plt.figure(figsize=(6,6))\n",
    "data.IsQuestion.value_counts().plot(kind='bar')"
   ]
  },
  {
   "cell_type": "code",
   "execution_count": 41,
   "id": "ba178325",
   "metadata": {
    "scrolled": true
   },
   "outputs": [
    {
     "data": {
      "text/html": [
       "<div>\n",
       "<style scoped>\n",
       "    .dataframe tbody tr th:only-of-type {\n",
       "        vertical-align: middle;\n",
       "    }\n",
       "\n",
       "    .dataframe tbody tr th {\n",
       "        vertical-align: top;\n",
       "    }\n",
       "\n",
       "    .dataframe thead th {\n",
       "        text-align: right;\n",
       "    }\n",
       "</style>\n",
       "<table border=\"1\" class=\"dataframe\">\n",
       "  <thead>\n",
       "    <tr style=\"text-align: right;\">\n",
       "      <th></th>\n",
       "      <th>Sentence</th>\n",
       "      <th>IsQuestion</th>\n",
       "    </tr>\n",
       "  </thead>\n",
       "  <tbody>\n",
       "    <tr>\n",
       "      <th>0</th>\n",
       "      <td>hindi movies for adults</td>\n",
       "      <td>No</td>\n",
       "    </tr>\n",
       "    <tr>\n",
       "      <th>1</th>\n",
       "      <td>are panda dogs real</td>\n",
       "      <td>Yes</td>\n",
       "    </tr>\n",
       "    <tr>\n",
       "      <th>2</th>\n",
       "      <td>asuedraw winning numbers</td>\n",
       "      <td>No</td>\n",
       "    </tr>\n",
       "    <tr>\n",
       "      <th>3</th>\n",
       "      <td>sentry replacement keys</td>\n",
       "      <td>No</td>\n",
       "    </tr>\n",
       "    <tr>\n",
       "      <th>4</th>\n",
       "      <td>rebuilding nicad battery packs</td>\n",
       "      <td>No</td>\n",
       "    </tr>\n",
       "  </tbody>\n",
       "</table>\n",
       "</div>"
      ],
      "text/plain": [
       "                         Sentence IsQuestion\n",
       "0         hindi movies for adults         No\n",
       "1             are panda dogs real        Yes\n",
       "2        asuedraw winning numbers         No\n",
       "3         sentry replacement keys         No\n",
       "4  rebuilding nicad battery packs         No"
      ]
     },
     "execution_count": 41,
     "metadata": {},
     "output_type": "execute_result"
    }
   ],
   "source": [
    "# we see the dataframe with the text and label\n",
    "data.head()"
   ]
  },
  {
   "cell_type": "code",
   "execution_count": 42,
   "id": "32361bde",
   "metadata": {},
   "outputs": [],
   "source": [
    "# we save the data to a csv file which will contain the sentence and answer that it is a question or not.\n",
    "data.to_csv('Solution.csv')"
   ]
  },
  {
   "cell_type": "markdown",
   "id": "3d8a1d2f",
   "metadata": {},
   "source": [
    "## Inference\n",
    "We have created a model which will classify that the given text is a question or not. We use NLTK Library for creating the model. We use the NPS chat data for training as it contains the text classified into proper labels. We extract the text and labels from the posts. We use different algorithms such as Decision Tree, Naive Bayes, and Maxent and identified that Decision Tree gives us the best accuracy. We attained an accuracy of around 76% using the Decision Tree Model. We use the Decision Tree classfier of nltk and created a function which will predict that the text is a question or not. We optimized the function by adding some use cases which are not covered by the algorithm to improve the performance. In the end, we applied the function to all the rows using lamda and apply functions and saved the result in a dataframe. We visualized the results and saved it in an csv file for future reference."
   ]
  }
 ],
 "metadata": {
  "kernelspec": {
   "display_name": "Python 3",
   "language": "python",
   "name": "python3"
  },
  "language_info": {
   "codemirror_mode": {
    "name": "ipython",
    "version": 3
   },
   "file_extension": ".py",
   "mimetype": "text/x-python",
   "name": "python",
   "nbconvert_exporter": "python",
   "pygments_lexer": "ipython3",
   "version": "3.8.8"
  }
 },
 "nbformat": 4,
 "nbformat_minor": 5
}
